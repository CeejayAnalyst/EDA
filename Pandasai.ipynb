{
  "nbformat": 4,
  "nbformat_minor": 0,
  "metadata": {
    "colab": {
      "provenance": [],
      "authorship_tag": "ABX9TyOt0325bTv9cFsFB217w1m5"
    },
    "kernelspec": {
      "name": "python3",
      "display_name": "Python 3"
    },
    "language_info": {
      "name": "python"
    }
  },
  "cells": [
    {
      "cell_type": "markdown",
      "source": [
        "# Project : **Global poverty and inequality dataset**\n",
        "\n",
        "In this Program , Using Python dataset is loaded and cleaned and formatted .\n",
        "Using PandasAI library , we can Interact with the dataset using NLP ."
      ],
      "metadata": {
        "id": "EGBkq-AoWXOb"
      }
    },
    {
      "cell_type": "code",
      "execution_count": null,
      "metadata": {
        "id": "dyyv7We3WLzi"
      },
      "outputs": [],
      "source": [
        "#installing pandaAI\n",
        "!pip install pandasai"
      ]
    },
    {
      "cell_type": "code",
      "source": [
        "#importing necessary Libraries\n",
        "\n",
        "import pandas as pd\n",
        "from pandasai import PandasAI\n",
        "from pandasai.llm.openai import OpenAI"
      ],
      "metadata": {
        "id": "jYk8Ko09XbNb"
      },
      "execution_count": 2,
      "outputs": []
    },
    {
      "cell_type": "code",
      "source": [
        "#loading the dataset .\n",
        "\n",
        "df = pd.read_csv('/content/pip_dataset.csv')\n",
        "\n",
        "#checking table .\n",
        "\n",
        "df.head(10)"
      ],
      "metadata": {
        "id": "MOhmzRw_Xqvl"
      },
      "execution_count": null,
      "outputs": []
    },
    {
      "cell_type": "code",
      "source": [
        "#describing table \n",
        "\n",
        "df.describe()\n",
        "\n",
        "#checking the information about the dataset\n",
        "\n",
        "df.info()\n",
        "\n",
        "#checking datatype for each column\n",
        "df.dtypes"
      ],
      "metadata": {
        "id": "3m5NM84LX_Rt"
      },
      "execution_count": null,
      "outputs": []
    },
    {
      "cell_type": "markdown",
      "source": [
        "# **Now we clean .**"
      ],
      "metadata": {
        "id": "-bsK4iDRY9nr"
      }
    },
    {
      "cell_type": "code",
      "source": [
        "df.duplicated()"
      ],
      "metadata": {
        "id": "CIGIf_InZHOt"
      },
      "execution_count": null,
      "outputs": []
    },
    {
      "cell_type": "code",
      "source": [
        "df.isnull().sum() #not null values found"
      ],
      "metadata": {
        "id": "nhKp_GFubbZU"
      },
      "execution_count": null,
      "outputs": []
    },
    {
      "cell_type": "code",
      "source": [
        "missing_value = df.isna().sum() #there are some missing values. \n",
        "df.drop(missing_value) #drop missing value rows.\n",
        "missing_value_check = df.isna().sum()\n",
        "\n",
        "\n"
      ],
      "metadata": {
        "id": "XKb2kV9ibp8-"
      },
      "execution_count": 26,
      "outputs": []
    },
    {
      "cell_type": "code",
      "source": [
        "#saving Cleaned data set to be used for analysis \n",
        "\n",
        "new_filename = '/content/cleaned_dataset.csv'\n",
        "df.to_csv(new_filename, index=False)"
      ],
      "metadata": {
        "id": "6Vpy4-3znvCk"
      },
      "execution_count": 27,
      "outputs": []
    },
    {
      "cell_type": "code",
      "source": [
        "#load the cleaned dataset back\n",
        "df_cleaned = pd.read_csv('/content/cleaned_dataset.csv')"
      ],
      "metadata": {
        "id": "5zmgBO7wqimv"
      },
      "execution_count": 31,
      "outputs": []
    },
    {
      "cell_type": "code",
      "source": [
        "# We will use PandasAI to perform EDA analysis , Descriptive analysis and possible some inference .\n",
        "\n",
        "llm = OpenAI(api_token='insert OpenAI token') #Instantiate OpenAi LLm\n",
        "\n",
        "pandas_ai = PandasAI(llm) #running pandasai on my openai model\n",
        "pandas_ai.run(df_cleaned, prompt='list the countries') #run the model with some questions\n"
      ],
      "metadata": {
        "id": "CUUV9__cchKT"
      },
      "execution_count": null,
      "outputs": []
    }
  ]
}